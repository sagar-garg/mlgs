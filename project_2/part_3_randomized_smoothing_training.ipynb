{
  "nbformat": 4,
  "nbformat_minor": 0,
  "metadata": {
    "kernelspec": {
      "display_name": "Python 3",
      "language": "python",
      "name": "python3"
    },
    "pycharm": {
      "stem_cell": {
        "cell_type": "raw",
        "metadata": {
          "collapsed": false
        },
        "source": []
      }
    },
    "colab": {
      "name": "part_3_randomized_smoothing_training.ipynb",
      "provenance": [],
      "collapsed_sections": [],
      "toc_visible": true
    },
    "accelerator": "GPU",
    "widgets": {
      "application/vnd.jupyter.widget-state+json": {
        "352d4b42b7bf4bed88a71cd07356a521": {
          "model_module": "@jupyter-widgets/controls",
          "model_name": "HBoxModel",
          "state": {
            "_view_name": "HBoxView",
            "_dom_classes": [],
            "_model_name": "HBoxModel",
            "_view_module": "@jupyter-widgets/controls",
            "_model_module_version": "1.5.0",
            "_view_count": null,
            "_view_module_version": "1.5.0",
            "box_style": "",
            "layout": "IPY_MODEL_4c530f300191411f82f0f814274ad306",
            "_model_module": "@jupyter-widgets/controls",
            "children": [
              "IPY_MODEL_bc8e9a21651048a3a7ef18cfcefe6602",
              "IPY_MODEL_6a64ad1f4e7e444aa8b3e9fae4e3495a"
            ]
          }
        },
        "4c530f300191411f82f0f814274ad306": {
          "model_module": "@jupyter-widgets/base",
          "model_name": "LayoutModel",
          "state": {
            "_view_name": "LayoutView",
            "grid_template_rows": null,
            "right": null,
            "justify_content": null,
            "_view_module": "@jupyter-widgets/base",
            "overflow": null,
            "_model_module_version": "1.2.0",
            "_view_count": null,
            "flex_flow": null,
            "width": null,
            "min_width": null,
            "border": null,
            "align_items": null,
            "bottom": null,
            "_model_module": "@jupyter-widgets/base",
            "top": null,
            "grid_column": null,
            "overflow_y": null,
            "overflow_x": null,
            "grid_auto_flow": null,
            "grid_area": null,
            "grid_template_columns": null,
            "flex": null,
            "_model_name": "LayoutModel",
            "justify_items": null,
            "grid_row": null,
            "max_height": null,
            "align_content": null,
            "visibility": null,
            "align_self": null,
            "height": null,
            "min_height": null,
            "padding": null,
            "grid_auto_rows": null,
            "grid_gap": null,
            "max_width": null,
            "order": null,
            "_view_module_version": "1.2.0",
            "grid_template_areas": null,
            "object_position": null,
            "object_fit": null,
            "grid_auto_columns": null,
            "margin": null,
            "display": null,
            "left": null
          }
        },
        "bc8e9a21651048a3a7ef18cfcefe6602": {
          "model_module": "@jupyter-widgets/controls",
          "model_name": "FloatProgressModel",
          "state": {
            "_view_name": "ProgressView",
            "style": "IPY_MODEL_75d5d794dd064338b1331e26f479979c",
            "_dom_classes": [],
            "description": "100%",
            "_model_name": "FloatProgressModel",
            "bar_style": "success",
            "max": 469,
            "_view_module": "@jupyter-widgets/controls",
            "_model_module_version": "1.5.0",
            "value": 469,
            "_view_count": null,
            "_view_module_version": "1.5.0",
            "orientation": "horizontal",
            "min": 0,
            "description_tooltip": null,
            "_model_module": "@jupyter-widgets/controls",
            "layout": "IPY_MODEL_5c93338142444ee296129c291a0ad9bc"
          }
        },
        "6a64ad1f4e7e444aa8b3e9fae4e3495a": {
          "model_module": "@jupyter-widgets/controls",
          "model_name": "HTMLModel",
          "state": {
            "_view_name": "HTMLView",
            "style": "IPY_MODEL_7a24276874004850b6b3a67f5ea7cb1f",
            "_dom_classes": [],
            "description": "",
            "_model_name": "HTMLModel",
            "placeholder": "​",
            "_view_module": "@jupyter-widgets/controls",
            "_model_module_version": "1.5.0",
            "value": " 469/469 [00:14&lt;00:00, 32.51it/s]",
            "_view_count": null,
            "_view_module_version": "1.5.0",
            "description_tooltip": null,
            "_model_module": "@jupyter-widgets/controls",
            "layout": "IPY_MODEL_a679ce78d73a4c489e9da48bd3a95068"
          }
        },
        "75d5d794dd064338b1331e26f479979c": {
          "model_module": "@jupyter-widgets/controls",
          "model_name": "ProgressStyleModel",
          "state": {
            "_view_name": "StyleView",
            "_model_name": "ProgressStyleModel",
            "description_width": "initial",
            "_view_module": "@jupyter-widgets/base",
            "_model_module_version": "1.5.0",
            "_view_count": null,
            "_view_module_version": "1.2.0",
            "bar_color": null,
            "_model_module": "@jupyter-widgets/controls"
          }
        },
        "5c93338142444ee296129c291a0ad9bc": {
          "model_module": "@jupyter-widgets/base",
          "model_name": "LayoutModel",
          "state": {
            "_view_name": "LayoutView",
            "grid_template_rows": null,
            "right": null,
            "justify_content": null,
            "_view_module": "@jupyter-widgets/base",
            "overflow": null,
            "_model_module_version": "1.2.0",
            "_view_count": null,
            "flex_flow": null,
            "width": null,
            "min_width": null,
            "border": null,
            "align_items": null,
            "bottom": null,
            "_model_module": "@jupyter-widgets/base",
            "top": null,
            "grid_column": null,
            "overflow_y": null,
            "overflow_x": null,
            "grid_auto_flow": null,
            "grid_area": null,
            "grid_template_columns": null,
            "flex": null,
            "_model_name": "LayoutModel",
            "justify_items": null,
            "grid_row": null,
            "max_height": null,
            "align_content": null,
            "visibility": null,
            "align_self": null,
            "height": null,
            "min_height": null,
            "padding": null,
            "grid_auto_rows": null,
            "grid_gap": null,
            "max_width": null,
            "order": null,
            "_view_module_version": "1.2.0",
            "grid_template_areas": null,
            "object_position": null,
            "object_fit": null,
            "grid_auto_columns": null,
            "margin": null,
            "display": null,
            "left": null
          }
        },
        "7a24276874004850b6b3a67f5ea7cb1f": {
          "model_module": "@jupyter-widgets/controls",
          "model_name": "DescriptionStyleModel",
          "state": {
            "_view_name": "StyleView",
            "_model_name": "DescriptionStyleModel",
            "description_width": "",
            "_view_module": "@jupyter-widgets/base",
            "_model_module_version": "1.5.0",
            "_view_count": null,
            "_view_module_version": "1.2.0",
            "_model_module": "@jupyter-widgets/controls"
          }
        },
        "a679ce78d73a4c489e9da48bd3a95068": {
          "model_module": "@jupyter-widgets/base",
          "model_name": "LayoutModel",
          "state": {
            "_view_name": "LayoutView",
            "grid_template_rows": null,
            "right": null,
            "justify_content": null,
            "_view_module": "@jupyter-widgets/base",
            "overflow": null,
            "_model_module_version": "1.2.0",
            "_view_count": null,
            "flex_flow": null,
            "width": null,
            "min_width": null,
            "border": null,
            "align_items": null,
            "bottom": null,
            "_model_module": "@jupyter-widgets/base",
            "top": null,
            "grid_column": null,
            "overflow_y": null,
            "overflow_x": null,
            "grid_auto_flow": null,
            "grid_area": null,
            "grid_template_columns": null,
            "flex": null,
            "_model_name": "LayoutModel",
            "justify_items": null,
            "grid_row": null,
            "max_height": null,
            "align_content": null,
            "visibility": null,
            "align_self": null,
            "height": null,
            "min_height": null,
            "padding": null,
            "grid_auto_rows": null,
            "grid_gap": null,
            "max_width": null,
            "order": null,
            "_view_module_version": "1.2.0",
            "grid_template_areas": null,
            "object_position": null,
            "object_fit": null,
            "grid_auto_columns": null,
            "margin": null,
            "display": null,
            "left": null
          }
        },
        "df48c77da1884f9499db958a2eed5ba3": {
          "model_module": "@jupyter-widgets/controls",
          "model_name": "HBoxModel",
          "state": {
            "_view_name": "HBoxView",
            "_dom_classes": [],
            "_model_name": "HBoxModel",
            "_view_module": "@jupyter-widgets/controls",
            "_model_module_version": "1.5.0",
            "_view_count": null,
            "_view_module_version": "1.5.0",
            "box_style": "",
            "layout": "IPY_MODEL_fd227aabb1ea4d2b839be59a92e8f29b",
            "_model_module": "@jupyter-widgets/controls",
            "children": [
              "IPY_MODEL_91b151a22c434400805f2533a8e18d81",
              "IPY_MODEL_b116232597924d00a0e323f8612a7a0d"
            ]
          }
        },
        "fd227aabb1ea4d2b839be59a92e8f29b": {
          "model_module": "@jupyter-widgets/base",
          "model_name": "LayoutModel",
          "state": {
            "_view_name": "LayoutView",
            "grid_template_rows": null,
            "right": null,
            "justify_content": null,
            "_view_module": "@jupyter-widgets/base",
            "overflow": null,
            "_model_module_version": "1.2.0",
            "_view_count": null,
            "flex_flow": null,
            "width": null,
            "min_width": null,
            "border": null,
            "align_items": null,
            "bottom": null,
            "_model_module": "@jupyter-widgets/base",
            "top": null,
            "grid_column": null,
            "overflow_y": null,
            "overflow_x": null,
            "grid_auto_flow": null,
            "grid_area": null,
            "grid_template_columns": null,
            "flex": null,
            "_model_name": "LayoutModel",
            "justify_items": null,
            "grid_row": null,
            "max_height": null,
            "align_content": null,
            "visibility": null,
            "align_self": null,
            "height": null,
            "min_height": null,
            "padding": null,
            "grid_auto_rows": null,
            "grid_gap": null,
            "max_width": null,
            "order": null,
            "_view_module_version": "1.2.0",
            "grid_template_areas": null,
            "object_position": null,
            "object_fit": null,
            "grid_auto_columns": null,
            "margin": null,
            "display": null,
            "left": null
          }
        },
        "91b151a22c434400805f2533a8e18d81": {
          "model_module": "@jupyter-widgets/controls",
          "model_name": "FloatProgressModel",
          "state": {
            "_view_name": "ProgressView",
            "style": "IPY_MODEL_f765dbd16b8b4754a192d44df069e025",
            "_dom_classes": [],
            "description": "  0%",
            "_model_name": "FloatProgressModel",
            "bar_style": "danger",
            "max": 10000,
            "_view_module": "@jupyter-widgets/controls",
            "_model_module_version": "1.5.0",
            "value": 10,
            "_view_count": null,
            "_view_module_version": "1.5.0",
            "orientation": "horizontal",
            "min": 0,
            "description_tooltip": null,
            "_model_module": "@jupyter-widgets/controls",
            "layout": "IPY_MODEL_be628a6a65a64c7ab9d6cc2e9f2d4b71"
          }
        },
        "b116232597924d00a0e323f8612a7a0d": {
          "model_module": "@jupyter-widgets/controls",
          "model_name": "HTMLModel",
          "state": {
            "_view_name": "HTMLView",
            "style": "IPY_MODEL_45fd3c3705cf498e90be3acb37fddb68",
            "_dom_classes": [],
            "description": "",
            "_model_name": "HTMLModel",
            "placeholder": "​",
            "_view_module": "@jupyter-widgets/controls",
            "_model_module_version": "1.5.0",
            "value": " 10/10000 [00:47&lt;13:14:12,  4.77s/it]",
            "_view_count": null,
            "_view_module_version": "1.5.0",
            "description_tooltip": null,
            "_model_module": "@jupyter-widgets/controls",
            "layout": "IPY_MODEL_300f079d36594cfab854dd4b29aa196a"
          }
        },
        "f765dbd16b8b4754a192d44df069e025": {
          "model_module": "@jupyter-widgets/controls",
          "model_name": "ProgressStyleModel",
          "state": {
            "_view_name": "StyleView",
            "_model_name": "ProgressStyleModel",
            "description_width": "initial",
            "_view_module": "@jupyter-widgets/base",
            "_model_module_version": "1.5.0",
            "_view_count": null,
            "_view_module_version": "1.2.0",
            "bar_color": null,
            "_model_module": "@jupyter-widgets/controls"
          }
        },
        "be628a6a65a64c7ab9d6cc2e9f2d4b71": {
          "model_module": "@jupyter-widgets/base",
          "model_name": "LayoutModel",
          "state": {
            "_view_name": "LayoutView",
            "grid_template_rows": null,
            "right": null,
            "justify_content": null,
            "_view_module": "@jupyter-widgets/base",
            "overflow": null,
            "_model_module_version": "1.2.0",
            "_view_count": null,
            "flex_flow": null,
            "width": null,
            "min_width": null,
            "border": null,
            "align_items": null,
            "bottom": null,
            "_model_module": "@jupyter-widgets/base",
            "top": null,
            "grid_column": null,
            "overflow_y": null,
            "overflow_x": null,
            "grid_auto_flow": null,
            "grid_area": null,
            "grid_template_columns": null,
            "flex": null,
            "_model_name": "LayoutModel",
            "justify_items": null,
            "grid_row": null,
            "max_height": null,
            "align_content": null,
            "visibility": null,
            "align_self": null,
            "height": null,
            "min_height": null,
            "padding": null,
            "grid_auto_rows": null,
            "grid_gap": null,
            "max_width": null,
            "order": null,
            "_view_module_version": "1.2.0",
            "grid_template_areas": null,
            "object_position": null,
            "object_fit": null,
            "grid_auto_columns": null,
            "margin": null,
            "display": null,
            "left": null
          }
        },
        "45fd3c3705cf498e90be3acb37fddb68": {
          "model_module": "@jupyter-widgets/controls",
          "model_name": "DescriptionStyleModel",
          "state": {
            "_view_name": "StyleView",
            "_model_name": "DescriptionStyleModel",
            "description_width": "",
            "_view_module": "@jupyter-widgets/base",
            "_model_module_version": "1.5.0",
            "_view_count": null,
            "_view_module_version": "1.2.0",
            "_model_module": "@jupyter-widgets/controls"
          }
        },
        "300f079d36594cfab854dd4b29aa196a": {
          "model_module": "@jupyter-widgets/base",
          "model_name": "LayoutModel",
          "state": {
            "_view_name": "LayoutView",
            "grid_template_rows": null,
            "right": null,
            "justify_content": null,
            "_view_module": "@jupyter-widgets/base",
            "overflow": null,
            "_model_module_version": "1.2.0",
            "_view_count": null,
            "flex_flow": null,
            "width": null,
            "min_width": null,
            "border": null,
            "align_items": null,
            "bottom": null,
            "_model_module": "@jupyter-widgets/base",
            "top": null,
            "grid_column": null,
            "overflow_y": null,
            "overflow_x": null,
            "grid_auto_flow": null,
            "grid_area": null,
            "grid_template_columns": null,
            "flex": null,
            "_model_name": "LayoutModel",
            "justify_items": null,
            "grid_row": null,
            "max_height": null,
            "align_content": null,
            "visibility": null,
            "align_self": null,
            "height": null,
            "min_height": null,
            "padding": null,
            "grid_auto_rows": null,
            "grid_gap": null,
            "max_width": null,
            "order": null,
            "_view_module_version": "1.2.0",
            "grid_template_areas": null,
            "object_position": null,
            "object_fit": null,
            "grid_auto_columns": null,
            "margin": null,
            "display": null,
            "left": null
          }
        }
      }
    }
  },
  "cells": [
    {
      "cell_type": "code",
      "metadata": {
        "id": "zpHb4Ij0sPro",
        "colab_type": "code",
        "outputId": "b2d273fb-7f1d-4a5b-af07-e386ea31b364",
        "colab": {
          "base_uri": "https://localhost:8080/",
          "height": 55
        }
      },
      "source": [
        "from google.colab import drive\n",
        "drive.mount('/content/gdrive')\n",
        "root_path='/content/gdrive/My Drive/Colab Notebooks/studies/machine learning for graphs and sequential data/project_2'"
      ],
      "execution_count": 3,
      "outputs": [
        {
          "output_type": "stream",
          "text": [
            "Drive already mounted at /content/gdrive; to attempt to forcibly remount, call drive.mount(\"/content/gdrive\", force_remount=True).\n"
          ],
          "name": "stdout"
        }
      ]
    },
    {
      "cell_type": "code",
      "metadata": {
        "id": "PI0l2YPWs6Uc",
        "colab_type": "code",
        "outputId": "4f034e10-916a-4532-ccf9-89d78cbaf870",
        "colab": {
          "base_uri": "https://localhost:8080/",
          "height": 55
        }
      },
      "source": [
        "%cd '/content/gdrive/My Drive/Colab Notebooks/studies/machine learning for graphs and sequential data/project_2'"
      ],
      "execution_count": 4,
      "outputs": [
        {
          "output_type": "stream",
          "text": [
            "/content/gdrive/My Drive/Colab Notebooks/studies/machine learning for graphs and sequential data/project_2\n"
          ],
          "name": "stdout"
        }
      ]
    },
    {
      "cell_type": "code",
      "metadata": {
        "id": "nmyhcRRvr08u",
        "colab_type": "code",
        "outputId": "9f4b8238-09b8-482a-db55-a1a2c535b334",
        "colab": {
          "base_uri": "https://localhost:8080/",
          "height": 107
        }
      },
      "source": [
        "%load_ext autoreload\n",
        "%autoreload 2\n",
        "import torch\n",
        "from torch.optim import Adam\n",
        "from matplotlib import pyplot as plt\n",
        "from utils import get_mnist_data\n",
        "from models import ConvNN, SmoothClassifier\n",
        "from training_and_evaluation import train_model\n",
        "from torch.nn.functional import cross_entropy\n"
      ],
      "execution_count": 5,
      "outputs": [
        {
          "output_type": "stream",
          "text": [
            "The autoreload extension is already loaded. To reload it, use:\n",
            "  %reload_ext autoreload\n"
          ],
          "name": "stdout"
        },
        {
          "output_type": "stream",
          "text": [
            "/usr/local/lib/python3.6/dist-packages/statsmodels/tools/_testing.py:19: FutureWarning: pandas.util.testing is deprecated. Use the functions in the public API at pandas.testing instead.\n",
            "  import pandas.util.testing as tm\n"
          ],
          "name": "stderr"
        }
      ]
    },
    {
      "cell_type": "markdown",
      "metadata": {
        "id": "_coD_otWr089",
        "colab_type": "text"
      },
      "source": [
        "# Project 2, part 3: Randomized smoothing training (60 pt)\n",
        "In this notebook we train a smooth classifier via the principle of randomized smoothing.\n",
        "\n",
        "## Your task\n",
        "Complete the missing code in the respective files, i.e. `models.py`, and this notebook. Make sure that all the functions follow the provided specification, i.e. the output of the function exactly matches the description in the docstring. \n",
        "\n",
        "Specifically, for this part you will have to implement the following functions / classes:  \n",
        "**`models.py`**:\n",
        "* `SmoothClassifier`:\n",
        " * `certify` (20pt)\n",
        " * `predict` (20pt)\n",
        " * `_sample_noise_predictions` (20pt)\n",
        "\n",
        "## General remarks\n",
        "Do not add or modify any code outside of the following comment blocks, or where otherwise explicitly stated.\n",
        "\n",
        "``` python\n",
        "##########################################################\n",
        "# YOUR CODE HERE\n",
        "...\n",
        "##########################################################\n",
        "```\n",
        "After you fill in all the missing code, restart the kernel and re-run all the cells in the notebook.\n",
        "\n",
        "The following things are **NOT** allowed:\n",
        "- Using additional `import` statements\n",
        "- Copying / reusing code from other sources (e.g. code by other students)\n",
        "\n",
        "If you plagiarise even for a single project task, you won't be eligible for the bonus this semester."
      ]
    },
    {
      "cell_type": "code",
      "metadata": {
        "id": "0a7twPG5r08_",
        "colab_type": "code",
        "colab": {}
      },
      "source": [
        "mnist_trainset = get_mnist_data(train=True)\n",
        "mnist_testset = get_mnist_data(train=False)\n",
        "use_cuda = torch.cuda.is_available()\n",
        "base_classifier = ConvNN()\n",
        "if use_cuda:\n",
        "    base_classifier = base_classifier.cuda()"
      ],
      "execution_count": 0,
      "outputs": []
    },
    {
      "cell_type": "code",
      "metadata": {
        "id": "TU7TLCJsr09K",
        "colab_type": "code",
        "colab": {}
      },
      "source": [
        "sigma = 1\n",
        "batch_size = 128\n",
        "lr = 1e-3\n",
        "epochs = 1"
      ],
      "execution_count": 0,
      "outputs": []
    },
    {
      "cell_type": "markdown",
      "metadata": {
        "id": "fCzl4ZaQr09T",
        "colab_type": "text"
      },
      "source": [
        "### Creating a smooth classifier\n",
        "Implement the `SmoothClassifier` class in `models.py` and follow the docstrings there."
      ]
    },
    {
      "cell_type": "code",
      "metadata": {
        "id": "5y_2dHgxr09V",
        "colab_type": "code",
        "colab": {}
      },
      "source": [
        "model = SmoothClassifier(base_classifier=base_classifier, num_classes=10, sigma=sigma)\n",
        "opt = Adam(model.parameters(), lr=lr)"
      ],
      "execution_count": 0,
      "outputs": []
    },
    {
      "cell_type": "code",
      "metadata": {
        "id": "8dJp1PAOr09d",
        "colab_type": "code",
        "colab": {}
      },
      "source": [
        "def loss_function(x, y, model):\n",
        "    logits = model(x).cpu()\n",
        "    loss = cross_entropy(logits, y)\n",
        "    return loss, logits"
      ],
      "execution_count": 0,
      "outputs": []
    },
    {
      "cell_type": "code",
      "metadata": {
        "id": "K1Vju5AXr09i",
        "colab_type": "code",
        "outputId": "58baef99-19c1-4455-c7ce-fa5f36d8991a",
        "colab": {
          "base_uri": "https://localhost:8080/",
          "height": 87,
          "referenced_widgets": [
            "352d4b42b7bf4bed88a71cd07356a521",
            "4c530f300191411f82f0f814274ad306",
            "bc8e9a21651048a3a7ef18cfcefe6602",
            "6a64ad1f4e7e444aa8b3e9fae4e3495a",
            "75d5d794dd064338b1331e26f479979c",
            "5c93338142444ee296129c291a0ad9bc",
            "7a24276874004850b6b3a67f5ea7cb1f",
            "a679ce78d73a4c489e9da48bd3a95068"
          ]
        }
      },
      "source": [
        "losses, accuracies = train_model(model, mnist_trainset, batch_size=batch_size, loss_function=loss_function, optimizer=opt)"
      ],
      "execution_count": 12,
      "outputs": [
        {
          "output_type": "display_data",
          "data": {
            "application/vnd.jupyter.widget-view+json": {
              "model_id": "352d4b42b7bf4bed88a71cd07356a521",
              "version_minor": 0,
              "version_major": 2
            },
            "text/plain": [
              "HBox(children=(FloatProgress(value=0.0, max=469.0), HTML(value='')))"
            ]
          },
          "metadata": {
            "tags": []
          }
        },
        {
          "output_type": "stream",
          "text": [
            "\n"
          ],
          "name": "stdout"
        }
      ]
    },
    {
      "cell_type": "code",
      "metadata": {
        "id": "-WLbY52Cr09o",
        "colab_type": "code",
        "colab": {}
      },
      "source": [
        "torch.save(model.base_classifier.state_dict(), \"models/randomized_smoothing.checkpoint\")"
      ],
      "execution_count": 0,
      "outputs": []
    },
    {
      "cell_type": "code",
      "metadata": {
        "id": "33CINd12r09s",
        "colab_type": "code",
        "outputId": "e1a86846-dc45-44ea-fd5f-e94d56afe146",
        "colab": {
          "base_uri": "https://localhost:8080/",
          "height": 246
        }
      },
      "source": [
        "fig = plt.figure(figsize=(10,3))\n",
        "plt.subplot(121)\n",
        "plt.plot(losses)\n",
        "plt.xlabel(\"Iteration\")\n",
        "plt.ylabel(\"Training Loss\")\n",
        "plt.subplot(122)\n",
        "plt.plot(accuracies)\n",
        "plt.xlabel(\"Iteration\")\n",
        "plt.ylabel(\"Training Accuracy\")\n",
        "plt.show()"
      ],
      "execution_count": 14,
      "outputs": [
        {
          "output_type": "display_data",
          "data": {
            "image/png": "[encoded data removed]",
            "text/plain": [
              "<Figure size 720x216 with 2 Axes>"
            ]
          },
          "metadata": {
            "tags": [],
            "needs_background": "light"
          }
        }
      ]
    },
    {
      "cell_type": "code",
      "metadata": {
        "id": "2M1DpcdVr09w",
        "colab_type": "code",
        "outputId": "53c3ce14-cc36-4289-b004-893d653b1145",
        "colab": {
          "base_uri": "https://localhost:8080/",
          "height": 35
        }
      },
      "source": [
        "losses[-1], accuracies[-1]"
      ],
      "execution_count": 0,
      "outputs": [
        {
          "output_type": "execute_result",
          "data": {
            "text/plain": [
              "(tensor(0.0083, grad_fn=<DivBackward0>), 0.7708333333333334)"
            ]
          },
          "metadata": {
            "tags": []
          },
          "execution_count": 10
        }
      ]
    },
    {
      "cell_type": "code",
      "metadata": {
        "id": "YSSzy6titFgI",
        "colab_type": "code",
        "colab": {}
      },
      "source": [
        "from torch.utils.data import Dataset, DataLoader\n",
        "#test_loader = DataLoader(mnist_testset, batch_size=1, shuffle=False)\n",
        "test_loader = DataLoader(mnist_testset, batch_size=1000, shuffle=False)"
      ],
      "execution_count": 0,
      "outputs": []
    },
    {
      "cell_type": "code",
      "metadata": {
        "id": "5j2JyHPUtFmL",
        "colab_type": "code",
        "outputId": "80b79c4b-a769-41eb-d31b-b85deed04a09",
        "colab": {
          "base_uri": "https://localhost:8080/",
          "height": 35
        }
      },
      "source": [
        "test_loader, len(mnist_testset)"
      ],
      "execution_count": 0,
      "outputs": [
        {
          "output_type": "execute_result",
          "data": {
            "text/plain": [
              "(<torch.utils.data.dataloader.DataLoader at 0x7fa635d81710>, 10000)"
            ]
          },
          "metadata": {
            "tags": []
          },
          "execution_count": 14
        }
      ]
    },
    {
      "cell_type": "code",
      "metadata": {
        "id": "_w3nDQp-tFrz",
        "colab_type": "code",
        "outputId": "f991b059-dbf5-4f37-932a-a1c7f2c1912a",
        "colab": {
          "base_uri": "https://localhost:8080/",
          "height": 760,
          "referenced_widgets": [
            "df48c77da1884f9499db958a2eed5ba3",
            "fd227aabb1ea4d2b839be59a92e8f29b",
            "91b151a22c434400805f2533a8e18d81",
            "b116232597924d00a0e323f8612a7a0d",
            "f765dbd16b8b4754a192d44df069e025",
            "be628a6a65a64c7ab9d6cc2e9f2d4b71",
            "45fd3c3705cf498e90be3acb37fddb68",
            "300f079d36594cfab854dd4b29aa196a"
          ]
        }
      },
      "source": [
        "from tqdm.autonotebook import tqdm\n",
        "for x, y in tqdm(iter(test_loader), total=len(mnist_testset)):\n",
        "    x = x.to(model.device())\n",
        "    class_counts=model._sample_noise_predictions(x,10,1)\n",
        "    top_class, radius=model.certify(x,10, 100, 0.05, 1)\n",
        "    prediction=model.predict(x, 10, .3,1)\n",
        "    print(class_counts)\n",
        "    print(top_class, radius)\n",
        "    print(prediction)"
      ],
      "execution_count": 0,
      "outputs": [
        {
          "output_type": "display_data",
          "data": {
            "application/vnd.jupyter.widget-view+json": {
              "model_id": "df48c77da1884f9499db958a2eed5ba3",
              "version_minor": 0,
              "version_major": 2
            },
            "text/plain": [
              "HBox(children=(FloatProgress(value=0.0, max=10000.0), HTML(value='')))"
            ]
          },
          "metadata": {
            "tags": []
          }
        },
        {
          "output_type": "stream",
          "text": [
            "tensor([ 847, 1360,  976, 1114, 1095,  820, 1046, 1164,  837,  741],\n",
            "       device='cuda:0')\n",
            "1 nan\n",
            "tensor(1)\n",
            "tensor([ 880, 1316,  921, 1115, 1151,  860, 1035, 1204,  822,  696],\n",
            "       device='cuda:0')\n",
            "1 nan\n",
            "tensor(1)\n",
            "tensor([ 948, 1206,  875, 1190, 1136,  880, 1061, 1175,  866,  663],\n",
            "       device='cuda:0')\n",
            "7 nan\n",
            "-1\n",
            "tensor([ 963, 1308,  950, 1068, 1160,  806, 1095, 1132,  866,  652],\n",
            "       device='cuda:0')\n",
            "1 nan\n",
            "tensor(1)\n",
            "tensor([ 912, 1402,  922, 1062, 1111,  742,  964, 1217,  858,  810],\n",
            "       device='cuda:0')\n",
            "1 nan\n",
            "tensor(1)\n",
            "tensor([1064, 1159,  888, 1041, 1067,  779, 1254, 1142,  835,  771],\n",
            "       device='cuda:0')\n",
            "6 nan\n",
            "-1\n",
            "tensor([1049, 1084,  923, 1065, 1207,  805, 1183, 1193,  946,  545],\n",
            "       device='cuda:0')\n",
            "7 nan\n",
            "tensor(7)\n",
            "tensor([1000, 1081,  945,  986, 1020,  650, 1243, 1289, 1151,  635],\n",
            "       device='cuda:0')\n",
            "7 nan\n",
            "tensor(7)\n",
            "tensor([1118, 1070,  843, 1027, 1080,  777, 1190, 1215,  924,  756],\n",
            "       device='cuda:0')\n",
            "6 nan\n",
            "-1\n",
            "tensor([1090, 1267,  856,  969, 1026,  742, 1141, 1353, 1033,  523],\n",
            "       device='cuda:0')\n",
            "7 nan\n",
            "-1\n",
            "\n"
          ],
          "name": "stdout"
        }
      ]
    },
    {
      "cell_type": "code",
      "metadata": {
        "id": "5jQB0kBGvW_q",
        "colab_type": "code",
        "outputId": "800ce85a-d7c0-499a-e249-9ca7dd3e00ab",
        "colab": {
          "base_uri": "https://localhost:8080/",
          "height": 384
        }
      },
      "source": [
        "num_samples=1000\n",
        "n0=100\n",
        "batch_size=1000\n",
        "alpha=0.05\n",
        "class_counts=model._sample_noise_predictions(x, n0, 1)\n",
        "class_counts_for_certificate = model._sample_noise_predictions(x,num_samples, batch_size)\n",
        "        \n",
        "top_class = class_counts.argmax().item()\n",
        "top_class_count = class_counts_for_certificate[top_class].item()\n",
        "        \n",
        "p_A_lower_bound = lower_confidence_bound(top_class_count, num_samples, alpha)\n",
        "\n",
        "# class_counts=model._sample_noise_predictions(x, 100, 1)\n",
        "# class_counts_for_certificate = self._sample_noise_predictions(inputs,num_samples, batch_size)\n",
        "        \n",
        "# top_class = class_counts.argmax().item()\n",
        "# top_class_count = class_counts_for_certificate[top_class].item()\n",
        "        \n",
        "# p_A_lower_bound = lower_confidence_bound(top_class_count, num_samples, alpha)"
      ],
      "execution_count": 0,
      "outputs": [
        {
          "output_type": "error",
          "ename": "RuntimeError",
          "evalue": "ignored",
          "traceback": [
            "\u001b[0;31m---------------------------------------------------------------------------\u001b[0m",
            "\u001b[0;31mRuntimeError\u001b[0m                              Traceback (most recent call last)",
            "\u001b[0;32m<ipython-input-31-3b987a20ac22>\u001b[0m in \u001b[0;36m<module>\u001b[0;34m()\u001b[0m\n\u001b[1;32m      4\u001b[0m \u001b[0malpha\u001b[0m\u001b[0;34m=\u001b[0m\u001b[0;36m0.05\u001b[0m\u001b[0;34m\u001b[0m\u001b[0;34m\u001b[0m\u001b[0m\n\u001b[1;32m      5\u001b[0m \u001b[0mclass_counts\u001b[0m\u001b[0;34m=\u001b[0m\u001b[0mmodel\u001b[0m\u001b[0;34m.\u001b[0m\u001b[0m_sample_noise_predictions\u001b[0m\u001b[0;34m(\u001b[0m\u001b[0mx\u001b[0m\u001b[0;34m,\u001b[0m \u001b[0mn0\u001b[0m\u001b[0;34m,\u001b[0m \u001b[0;36m1\u001b[0m\u001b[0;34m)\u001b[0m\u001b[0;34m\u001b[0m\u001b[0;34m\u001b[0m\u001b[0m\n\u001b[0;32m----> 6\u001b[0;31m \u001b[0mclass_counts_for_certificate\u001b[0m \u001b[0;34m=\u001b[0m \u001b[0mmodel\u001b[0m\u001b[0;34m.\u001b[0m\u001b[0m_sample_noise_predictions\u001b[0m\u001b[0;34m(\u001b[0m\u001b[0mx\u001b[0m\u001b[0;34m,\u001b[0m\u001b[0mnum_samples\u001b[0m\u001b[0;34m,\u001b[0m \u001b[0mbatch_size\u001b[0m\u001b[0;34m)\u001b[0m\u001b[0;34m\u001b[0m\u001b[0;34m\u001b[0m\u001b[0m\n\u001b[0m\u001b[1;32m      7\u001b[0m \u001b[0;34m\u001b[0m\u001b[0m\n\u001b[1;32m      8\u001b[0m \u001b[0mtop_class\u001b[0m \u001b[0;34m=\u001b[0m \u001b[0mclass_counts\u001b[0m\u001b[0;34m.\u001b[0m\u001b[0margmax\u001b[0m\u001b[0;34m(\u001b[0m\u001b[0;34m)\u001b[0m\u001b[0;34m.\u001b[0m\u001b[0mitem\u001b[0m\u001b[0;34m(\u001b[0m\u001b[0;34m)\u001b[0m\u001b[0;34m\u001b[0m\u001b[0;34m\u001b[0m\u001b[0m\n",
            "\u001b[0;32m/content/gdrive/My Drive/Colab Notebooks/studies/machine learning for graphs and sequential data/project_2/models.py\u001b[0m in \u001b[0;36m_sample_noise_predictions\u001b[0;34m(self, inputs, num_samples, batch_size)\u001b[0m\n\u001b[1;32m    207\u001b[0m                 \u001b[0mnum_remaining\u001b[0m \u001b[0;34m-=\u001b[0m \u001b[0mthis_batch_size\u001b[0m\u001b[0;34m\u001b[0m\u001b[0;34m\u001b[0m\u001b[0m\n\u001b[1;32m    208\u001b[0m                 \u001b[0mbatch\u001b[0m\u001b[0;34m=\u001b[0m \u001b[0minputs\u001b[0m\u001b[0;34m.\u001b[0m\u001b[0mrepeat\u001b[0m\u001b[0;34m(\u001b[0m\u001b[0;34m(\u001b[0m\u001b[0mthis_batch_size\u001b[0m\u001b[0;34m,\u001b[0m\u001b[0;36m1\u001b[0m\u001b[0;34m,\u001b[0m\u001b[0;36m1\u001b[0m\u001b[0;34m,\u001b[0m\u001b[0;36m1\u001b[0m\u001b[0;34m)\u001b[0m\u001b[0;34m)\u001b[0m\u001b[0;34m\u001b[0m\u001b[0;34m\u001b[0m\u001b[0m\n\u001b[0;32m--> 209\u001b[0;31m                 \u001b[0mprediction_class\u001b[0m\u001b[0;34m=\u001b[0m\u001b[0mself\u001b[0m\u001b[0;34m.\u001b[0m\u001b[0mforward\u001b[0m\u001b[0;34m(\u001b[0m\u001b[0mbatch\u001b[0m\u001b[0;34m)\u001b[0m\u001b[0;34m.\u001b[0m\u001b[0margmax\u001b[0m\u001b[0;34m(\u001b[0m\u001b[0;36m1\u001b[0m\u001b[0;34m)\u001b[0m \u001b[0;31m#returns array [len(batch_size)] with each entry being the index of maximum value, i.e., class.\u001b[0m\u001b[0;34m\u001b[0m\u001b[0;34m\u001b[0m\u001b[0m\n\u001b[0m\u001b[1;32m    210\u001b[0m \u001b[0;34m\u001b[0m\u001b[0m\n\u001b[1;32m    211\u001b[0m                 \u001b[0;32mfor\u001b[0m \u001b[0mi\u001b[0m \u001b[0;32min\u001b[0m \u001b[0mprediction_class\u001b[0m\u001b[0;34m.\u001b[0m\u001b[0mcpu\u001b[0m\u001b[0;34m(\u001b[0m\u001b[0;34m)\u001b[0m\u001b[0;34m.\u001b[0m\u001b[0mnumpy\u001b[0m\u001b[0;34m(\u001b[0m\u001b[0;34m)\u001b[0m\u001b[0;34m:\u001b[0m\u001b[0;34m\u001b[0m\u001b[0;34m\u001b[0m\u001b[0m\n",
            "\u001b[0;32m/content/gdrive/My Drive/Colab Notebooks/studies/machine learning for graphs and sequential data/project_2/models.py\u001b[0m in \u001b[0;36mforward\u001b[0;34m(self, inputs)\u001b[0m\n\u001b[1;32m    231\u001b[0m         \"\"\"\n\u001b[1;32m    232\u001b[0m         \u001b[0mnoise\u001b[0m \u001b[0;34m=\u001b[0m \u001b[0mtorch\u001b[0m\u001b[0;34m.\u001b[0m\u001b[0mrandn_like\u001b[0m\u001b[0;34m(\u001b[0m\u001b[0minputs\u001b[0m\u001b[0;34m)\u001b[0m \u001b[0;34m*\u001b[0m \u001b[0mself\u001b[0m\u001b[0;34m.\u001b[0m\u001b[0msigma\u001b[0m\u001b[0;34m\u001b[0m\u001b[0;34m\u001b[0m\u001b[0m\n\u001b[0;32m--> 233\u001b[0;31m         \u001b[0;32mreturn\u001b[0m \u001b[0mself\u001b[0m\u001b[0;34m.\u001b[0m\u001b[0mbase_classifier\u001b[0m\u001b[0;34m(\u001b[0m\u001b[0;34m(\u001b[0m\u001b[0minputs\u001b[0m \u001b[0;34m+\u001b[0m \u001b[0mnoise\u001b[0m\u001b[0;34m)\u001b[0m\u001b[0;34m.\u001b[0m\u001b[0mclamp\u001b[0m\u001b[0;34m(\u001b[0m\u001b[0;36m0\u001b[0m\u001b[0;34m,\u001b[0m \u001b[0;36m1\u001b[0m\u001b[0;34m)\u001b[0m\u001b[0;34m)\u001b[0m\u001b[0;34m\u001b[0m\u001b[0;34m\u001b[0m\u001b[0m\n\u001b[0m\u001b[1;32m    234\u001b[0m \u001b[0;34m\u001b[0m\u001b[0m\n",
            "\u001b[0;31mRuntimeError\u001b[0m: CUDA out of memory. Tried to allocate 2.92 GiB (GPU 0; 11.17 GiB total capacity; 8.76 GiB already allocated; 2.08 GiB free; 8.78 GiB reserved in total by PyTorch)"
          ]
        }
      ]
    },
    {
      "cell_type": "code",
      "metadata": {
        "id": "vbYVC1epvcaW",
        "colab_type": "code",
        "colab": {}
      },
      "source": [
        "class_counts=model._sample_noise_predictions(x, 100, 1)"
      ],
      "execution_count": 0,
      "outputs": []
    },
    {
      "cell_type": "code",
      "metadata": {
        "id": "nJrmBm-LiimW",
        "colab_type": "code",
        "outputId": "d039be07-1e9c-4916-8950-50260de99958",
        "colab": {
          "base_uri": "https://localhost:8080/",
          "height": 52
        }
      },
      "source": [
        "class_counts"
      ],
      "execution_count": 0,
      "outputs": [
        {
          "output_type": "execute_result",
          "data": {
            "text/plain": [
              "tensor([10565, 12603,  8181,  9586, 10901,  7506, 11477, 13159, 10612,  5410],\n",
              "       device='cuda:0')"
            ]
          },
          "metadata": {
            "tags": []
          },
          "execution_count": 19
        }
      ]
    },
    {
      "cell_type": "code",
      "metadata": {
        "id": "6KJO0y-jiiuB",
        "colab_type": "code",
        "outputId": "6f62ee7b-ca2a-403a-eef6-54bd6b6ef4a3",
        "colab": {
          "base_uri": "https://localhost:8080/",
          "height": 52
        }
      },
      "source": [
        "class_counts_for_certificate = model._sample_noise_predictions(x,1000, 1)\n",
        "class_counts_for_certificate"
      ],
      "execution_count": 0,
      "outputs": [
        {
          "output_type": "execute_result",
          "data": {
            "text/plain": [
              "tensor([105396, 126666,  82377,  94362, 109529,  75922, 115388, 132025, 105129,\n",
              "         53206], device='cuda:0')"
            ]
          },
          "metadata": {
            "tags": []
          },
          "execution_count": 20
        }
      ]
    },
    {
      "cell_type": "code",
      "metadata": {
        "id": "6t8WmFTSiise",
        "colab_type": "code",
        "outputId": "c37696e5-cb30-4f8a-8c95-e2dd00683371",
        "colab": {
          "base_uri": "https://localhost:8080/",
          "height": 35
        }
      },
      "source": [
        "top_class = class_counts.argmax().item()\n",
        "top_class"
      ],
      "execution_count": 0,
      "outputs": [
        {
          "output_type": "execute_result",
          "data": {
            "text/plain": [
              "7"
            ]
          },
          "metadata": {
            "tags": []
          },
          "execution_count": 21
        }
      ]
    },
    {
      "cell_type": "code",
      "metadata": {
        "id": "XxXKYKNmn2np",
        "colab_type": "code",
        "outputId": "f39942b2-83fa-4545-aaaf-333914f30a7c",
        "colab": {
          "base_uri": "https://localhost:8080/",
          "height": 35
        }
      },
      "source": [
        "top_class_count = class_counts_for_certificate[top_class].item()\n",
        "top_class_count"
      ],
      "execution_count": 0,
      "outputs": [
        {
          "output_type": "execute_result",
          "data": {
            "text/plain": [
              "132025"
            ]
          },
          "metadata": {
            "tags": []
          },
          "execution_count": 22
        }
      ]
    },
    {
      "cell_type": "code",
      "metadata": {
        "id": "Zr47sWWXn2t0",
        "colab_type": "code",
        "outputId": "449a98aa-738c-499e-e04e-c92e76386542",
        "colab": {
          "base_uri": "https://localhost:8080/",
          "height": 35
        }
      },
      "source": [
        "from models import lower_confidence_bound\n",
        "p_A_lower_bound = lower_confidence_bound(top_class_count, 1000, 0.05)\n",
        "p_A_lower_bound"
      ],
      "execution_count": 0,
      "outputs": [
        {
          "output_type": "execute_result",
          "data": {
            "text/plain": [
              "nan"
            ]
          },
          "metadata": {
            "tags": []
          },
          "execution_count": 30
        }
      ]
    },
    {
      "cell_type": "code",
      "metadata": {
        "id": "cMf4mFJBn20a",
        "colab_type": "code",
        "colab": {}
      },
      "source": [
        ""
      ],
      "execution_count": 0,
      "outputs": []
    },
    {
      "cell_type": "code",
      "metadata": {
        "id": "dbysHeJXn289",
        "colab_type": "code",
        "colab": {}
      },
      "source": [
        ""
      ],
      "execution_count": 0,
      "outputs": []
    }
  ]
}